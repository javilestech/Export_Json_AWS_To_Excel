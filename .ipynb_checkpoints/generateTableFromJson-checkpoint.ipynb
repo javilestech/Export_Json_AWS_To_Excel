{
 "cells": [
  {
   "cell_type": "code",
   "execution_count": 1,
   "id": "c213ee1d-323b-4c04-98fe-25972882edff",
   "metadata": {},
   "outputs": [],
   "source": [
    "import pandas as pd\n",
    "from io import StringIO"
   ]
  },
  {
   "cell_type": "code",
   "execution_count": 2,
   "id": "79cccf92-d1a5-4ca3-9c5c-b60e3f26da00",
   "metadata": {},
   "outputs": [],
   "source": [
    "# !pip install openpyxl"
   ]
  },
  {
   "cell_type": "code",
   "execution_count": 3,
   "id": "98f7903f-fd4e-4f2f-aad5-630329328090",
   "metadata": {},
   "outputs": [],
   "source": [
    "data = pd.read_json(\"json/aws_test_infra.json\")\n",
    "a = data.accounts[0]"
   ]
  },
  {
   "cell_type": "code",
   "execution_count": 4,
   "id": "411c6a9b-12c7-478e-b0cc-b5a7f11a7646",
   "metadata": {},
   "outputs": [],
   "source": [
    "\n",
    "output = pd.json_normalize(a[\"resources\"]['cloudFront']['distributions'])\n",
    "s = pd.Series([x+1 for x in range(len(output))])\n",
    "output.set_index([s],inplace=True)\n",
    "if not output.empty:\n",
    "    output.to_excel(\"output_excel/cloudFront_distributions.xlsx\") "
   ]
  },
  {
   "cell_type": "code",
   "execution_count": 5,
   "id": "3d67d29e-a2b6-4cab-a19a-52e844529bcb",
   "metadata": {},
   "outputs": [],
   "source": [
    "\n",
    "output = pd.json_normalize(a[\"resources\"]['route53']['hostedZones'])\n",
    "s = pd.Series([x+1 for x in range(len(output))])\n",
    "output.set_index([s],inplace=True)\n",
    "if not output.empty:\n",
    "    output.to_excel(\"output_excel/hostedZones_route53.xlsx\") "
   ]
  },
  {
   "cell_type": "code",
   "execution_count": 6,
   "id": "b0eec42c-0c04-48d6-9aac-bdb20152e39d",
   "metadata": {},
   "outputs": [],
   "source": [
    "output = pd.json_normalize(a[\"regions\"][0]['resources']['alb']['loadBalancersV2'])\n",
    "s = pd.Series([x+1 for x in range(len(output))])\n",
    "output.set_index([s],inplace=True)\n",
    "if not output.empty:\n",
    "    output.to_excel(\"output_excel/loadBalancersV2.xlsx\")\n"
   ]
  },
  {
   "cell_type": "code",
   "execution_count": 7,
   "id": "c8aa241a-4a81-4f2f-8f8a-5fffc94aba41",
   "metadata": {},
   "outputs": [],
   "source": [
    "output = pd.json_normalize(a[\"regions\"][0]['resources']['alb']['targetGroups'])\n",
    "s = pd.Series([x+1 for x in range(len(output))])\n",
    "output.set_index([s],inplace=True)\n",
    "if not output.empty:\n",
    "    output.to_excel(\"output_excel/targetGroups.xlsx\")"
   ]
  },
  {
   "cell_type": "code",
   "execution_count": 8,
   "id": "6ddb362b-27a3-4649-8312-a16061368a3c",
   "metadata": {},
   "outputs": [],
   "source": [
    "output = pd.json_normalize(a[\"regions\"][0]['resources']['apigateway'][\"restApis\"])\n",
    "s = pd.Series([x+1 for x in range(len(output))])\n",
    "output.set_index([s],inplace=True)\n",
    "if not output.empty:\n",
    "    output.to_excel(\"output_excel/restApis_apigateway.xlsx\")"
   ]
  },
  {
   "cell_type": "code",
   "execution_count": 9,
   "id": "2f160c0b-831e-45eb-933e-176d9f2783dc",
   "metadata": {},
   "outputs": [],
   "source": [
    "output = pd.json_normalize(a[\"regions\"][0]['resources']['apigatewayv2'][\"apis\"])\n",
    "\n",
    "if not output.empty:\n",
    "    s = pd.Series([x+1 for x in range(len(output))])\n",
    "    output.set_index([s],inplace=True)\n",
    "    output.to_excel(\"output_excel/apis.xlsx\")"
   ]
  },
  {
   "cell_type": "code",
   "execution_count": 11,
   "id": "998bd412-a44e-4179-aa56-426ba39f7436",
   "metadata": {},
   "outputs": [],
   "source": [
    "data = pd.json_normalize(a[\"regions\"][0]['resources']['apigatewayv2'][\"apis\"])\n",
    "\n",
    "if not data.empty:\n",
    "    frames = []\n",
    "    \n",
    "    for item in data[\"Routes\"]:\n",
    "        out = pd.json_normalize(item)\n",
    "        frames.append(out)\n",
    "    output = pd.concat(frames)\n",
    "    if not output.empty:\n",
    "        s = pd.Series([x+1 for x in range(len(output))])\n",
    "        output.set_index([s],inplace=True)\n",
    "        output.to_excel(\"output_excel/routes_apis.xlsx\")"
   ]
  },
  {
   "cell_type": "code",
   "execution_count": 16,
   "id": "f244e127-cd92-4ef5-999f-7177dd9d358c",
   "metadata": {},
   "outputs": [],
   "source": [
    "data = pd.json_normalize(a[\"regions\"][0]['resources']['apigatewayv2'][\"apis\"])\n",
    "\n",
    "if not data.empty:\n",
    "    frames = []\n",
    "    for item in data[\"Integrations\"]:\n",
    "        out = pd.json_normalize(item)\n",
    "        frames.append(out)\n",
    "    output = pd.concat(frames)\n",
    "    if not output.empty:\n",
    "        s = pd.Series([x+1 for x in range(len(output))])\n",
    "        output.set_index([s],inplace=True)\n",
    "        output.to_excel(\"output_excel/integrations_apis.xlsx\")"
   ]
  },
  {
   "cell_type": "code",
   "execution_count": 17,
   "id": "129b096e-4085-448c-b2cc-5bd5644a4ec6",
   "metadata": {},
   "outputs": [],
   "source": [
    "output = pd.json_normalize(a[\"regions\"][0]['resources']['cloudtrail'][\"trails\"])\n",
    "\n",
    "if not output.empty:\n",
    "    s = pd.Series([x+1 for x in range(len(output))])\n",
    "    output.set_index([s],inplace=True)\n",
    "    output.to_excel(\"output_excel/trails_cloudtrail.xlsx\")"
   ]
  },
  {
   "cell_type": "code",
   "execution_count": 18,
   "id": "aebaaa84-acbc-438c-ad0b-b12750998ed1",
   "metadata": {},
   "outputs": [],
   "source": [
    "output = pd.json_normalize(a[\"regions\"][0]['resources']['dynamoDB'][\"tables\"])\n",
    "s = pd.Series([x+1 for x in range(len(output))])\n",
    "output.set_index([s],inplace=True)\n",
    "if not output.empty:\n",
    "    output.to_excel(\"output_excel/tables_dynamoDB.xlsx\")"
   ]
  },
  {
   "cell_type": "code",
   "execution_count": 19,
   "id": "49ebbf4c-efdc-49b7-a5bb-3fc3ce1d1fc4",
   "metadata": {},
   "outputs": [],
   "source": [
    "data = pd.json_normalize(a[\"regions\"][0]['resources']['ec2'][\"instances\"])\n",
    "frames = []\n",
    "\n",
    "for item in data[\"Instances\"]:\n",
    "    out = pd.json_normalize(item)\n",
    "    frames.append(out)\n",
    "        \n",
    "output = pd.concat(frames)\n",
    "s = pd.Series([x+1 for x in range(len(output))])\n",
    "output.set_index([s],inplace=True)\n",
    "if not output.empty:\n",
    "    output.to_excel(\"output_excel/instances.xlsx\")"
   ]
  },
  {
   "cell_type": "code",
   "execution_count": 20,
   "id": "13985825-907d-4d51-a7b1-d6fa5dfb432f",
   "metadata": {},
   "outputs": [],
   "source": [
    "data = pd.json_normalize(a[\"regions\"][0]['resources']['ec2'][\"networkAcls\"])\n",
    "frames = []\n",
    "\n",
    "for item in data[\"Associations\"]:\n",
    "    out = pd.json_normalize(item)\n",
    "    frames.append(out)\n",
    "        \n",
    "output = pd.concat(frames)\n",
    "\n",
    "s = pd.Series([x+1 for x in range(len(output))])\n",
    "output.set_index([s],inplace=True)\n",
    "if not output.empty:\n",
    "    output.to_excel(\"output_excel/Associations_networkAcls.xlsx\")"
   ]
  },
  {
   "cell_type": "code",
   "execution_count": 21,
   "id": "f74ff6e3-8891-4b16-8da1-b7bfa841abe5",
   "metadata": {},
   "outputs": [],
   "source": [
    "output = pd.json_normalize(a[\"regions\"][0]['resources']['ec2'][\"securityGroups\"])\n",
    "s = pd.Series([x+1 for x in range(len(output))])\n",
    "output.set_index([s],inplace=True)\n",
    "if not output.empty:\n",
    "    output.to_excel(\"output_excel/securityGroups_ec2.xlsx\")"
   ]
  },
  {
   "cell_type": "code",
   "execution_count": 22,
   "id": "fd0599a5-d9af-4387-9f9c-c5e4b066de75",
   "metadata": {},
   "outputs": [],
   "source": [
    "output = pd.json_normalize(a[\"regions\"][0]['resources']['ec2'][\"subnets\"])\n",
    "s = pd.Series([x+1 for x in range(len(output))])\n",
    "output.set_index([s],inplace=True)\n",
    "if not output.empty:\n",
    "    output.to_excel(\"output_excel/subnets_ec2.xlsx\")"
   ]
  },
  {
   "cell_type": "code",
   "execution_count": 23,
   "id": "fa3fe633-bc70-46f6-8f71-0e4928fd11cf",
   "metadata": {},
   "outputs": [],
   "source": [
    "output = pd.json_normalize(a[\"regions\"][0]['resources']['ec2'][\"volumes\"])\n",
    "s = pd.Series([x+1 for x in range(len(output))])\n",
    "output.set_index([s],inplace=True)\n",
    "if not output.empty:\n",
    "    output.to_excel(\"output_excel/volumes_ec2.xlsx\")"
   ]
  },
  {
   "cell_type": "code",
   "execution_count": 24,
   "id": "24c9ed13-c9e9-4778-b98d-435a0bd66fae",
   "metadata": {},
   "outputs": [],
   "source": [
    "output = pd.json_normalize(a[\"regions\"][0]['resources']['ec2'][\"vpcs\"])\n",
    "s = pd.Series([x+1 for x in range(len(output))])\n",
    "output.set_index([s],inplace=True)\n",
    "if not output.empty:\n",
    "    output.to_excel(\"output_excel/vpcs.xlsx\")"
   ]
  },
  {
   "cell_type": "code",
   "execution_count": 25,
   "id": "6a059e24-7da8-41b8-b85a-596474d4bc2c",
   "metadata": {},
   "outputs": [],
   "source": [
    "output = pd.json_normalize(a[\"regions\"][0]['resources']['ec2'][\"internetGateways\"])\n",
    "s = pd.Series([x+1 for x in range(len(output))])\n",
    "output.set_index([s],inplace=True)\n",
    "if not output.empty:\n",
    "    output.to_excel(\"output_excel/internetGateways_ec2.xlsx\")"
   ]
  },
  {
   "cell_type": "code",
   "execution_count": 26,
   "id": "0781b0b8-4b01-4e42-b829-eda99d9d881c",
   "metadata": {},
   "outputs": [],
   "source": [
    "output = pd.json_normalize(a[\"regions\"][0]['resources']['ec2'][\"natGateways\"])\n",
    "s = pd.Series([x+1 for x in range(len(output))])\n",
    "output.set_index([s],inplace=True)\n",
    "if not output.empty:\n",
    "    output.to_excel(\"output_excel/natGateways_ec2.xlsx\")"
   ]
  },
  {
   "cell_type": "code",
   "execution_count": 27,
   "id": "7567d220-199f-41e8-a879-0c479561df94",
   "metadata": {},
   "outputs": [],
   "source": [
    "output = pd.json_normalize(a[\"regions\"][0]['resources']['ec2'][\"routeTables\"])\n",
    "s = pd.Series([x+1 for x in range(len(output))])\n",
    "output.set_index([s],inplace=True)\n",
    "if not output.empty:\n",
    "    output.to_excel(\"output_excel/routeTables_ec2.xlsx\")"
   ]
  },
  {
   "cell_type": "code",
   "execution_count": 28,
   "id": "a8a818e1-2942-44a2-bb98-4db56f6673ac",
   "metadata": {},
   "outputs": [],
   "source": [
    "data = pd.json_normalize(a[\"regions\"][0]['resources']['ec2'][\"routeTables\"])\n",
    "frames = []\n",
    "for item in data[\"Associations\"]:\n",
    "    out = pd.json_normalize(item)\n",
    "    frames.append(out)\n",
    "output = pd.concat(frames)\n",
    "s = pd.Series([x+1 for x in range(len(output))])\n",
    "output.set_index([s],inplace=True)\n",
    "output.to_excel(\"output_excel/routeTablesAssociations_ec2.xlsx\")"
   ]
  },
  {
   "cell_type": "code",
   "execution_count": 29,
   "id": "029404b1-1759-4d85-9c18-20d85da38f8e",
   "metadata": {},
   "outputs": [],
   "source": [
    "data = pd.json_normalize(a[\"regions\"][0]['resources']['ec2'][\"routeTables\"])\n",
    "frames = []\n",
    "for item in data[\"Routes\"]:\n",
    "    out = pd.json_normalize(item)\n",
    "    frames.append(out)\n",
    "output = pd.concat(frames)\n",
    "s = pd.Series([x+1 for x in range(len(output))])\n",
    "output.set_index([s],inplace=True)\n",
    "output.to_excel(\"output_excel/routes_ec2.xlsx\")"
   ]
  },
  {
   "cell_type": "code",
   "execution_count": 30,
   "id": "c1a01557-c689-458d-bcbd-4d36b6d988c1",
   "metadata": {},
   "outputs": [],
   "source": [
    "output = pd.json_normalize(a[\"regions\"][0]['resources']['ec2'][\"vpcEndpoints\"])\n",
    "s = pd.Series([x+1 for x in range(len(output))])\n",
    "output.set_index([s],inplace=True)\n",
    "if not output.empty:\n",
    "    output.to_excel(\"output_excel/vpcEndpoints_ec2.xlsx\")"
   ]
  },
  {
   "cell_type": "code",
   "execution_count": 31,
   "id": "77795f38-fa24-4ff3-8a58-fb81426ce6a1",
   "metadata": {},
   "outputs": [],
   "source": [
    "output = pd.json_normalize(a[\"regions\"][0]['resources']['ec2'][\"vpcPeeringConnections\"])\n",
    "s = pd.Series([x+1 for x in range(len(output))])\n",
    "output.set_index([s],inplace=True)\n",
    "if not output.empty:\n",
    "    output.to_excel(\"output_excel/vpcPeeringConnections_ec2.xlsx\")"
   ]
  },
  {
   "cell_type": "code",
   "execution_count": 32,
   "id": "99b8ba0c-d757-45e9-bf10-dcb0d019ad60",
   "metadata": {},
   "outputs": [],
   "source": [
    "output = pd.json_normalize(a[\"regions\"][0]['resources']['ec2'][\"elasticNetworkInterfaces\"])\n",
    "s = pd.Series([x+1 for x in range(len(output))])\n",
    "output.set_index([s],inplace=True)\n",
    "if not output.empty:\n",
    "    output.to_excel(\"output_excel/elasticNetworkInterfaces_ec2.xlsx\")"
   ]
  },
  {
   "cell_type": "code",
   "execution_count": 33,
   "id": "60e8c8ba-c3be-48eb-86af-f29ea8427ca5",
   "metadata": {},
   "outputs": [],
   "source": [
    "output = pd.json_normalize(a[\"regions\"][0]['resources'][\"elasticache\"][\"clusters\"])\n",
    "s = pd.Series([x+1 for x in range(len(output))])\n",
    "output.set_index([s],inplace=True)\n",
    "if not output.empty:\n",
    "    output.to_excel(\"output_excel/clusters_elasticache.xlsx\")"
   ]
  },
  {
   "cell_type": "code",
   "execution_count": null,
   "id": "24499e48-5a22-41ac-bfdb-2934eb581294",
   "metadata": {},
   "outputs": [],
   "source": []
  },
  {
   "cell_type": "code",
   "execution_count": 34,
   "id": "23eb9c6c-6f6b-4db5-a024-d7adcfce9296",
   "metadata": {},
   "outputs": [],
   "source": [
    "output = pd.json_normalize(a[\"regions\"][0]['resources'][\"elasticache\"][\"subnetGroups\"])\n",
    "s = pd.Series([x+1 for x in range(len(output))])\n",
    "output.set_index([s],inplace=True)\n",
    "if not output.empty:\n",
    "    output.to_excel(\"output_excel/subnetgroups_elasticache.xlsx\")"
   ]
  },
  {
   "cell_type": "code",
   "execution_count": 35,
   "id": "1817a562-d931-4599-89b6-a9b089f795dc",
   "metadata": {},
   "outputs": [],
   "source": [
    "output = pd.json_normalize(a[\"regions\"][0]['resources']['eventbridge'][\"rules\"])\n",
    "s = pd.Series([x+1 for x in range(len(output))])\n",
    "output.set_index([s],inplace=True)\n",
    "if not output.empty:\n",
    "    output.to_excel(\"output_excel/rules_eventbridge.xlsx\")"
   ]
  },
  {
   "cell_type": "code",
   "execution_count": 36,
   "id": "f6344654-fad5-48e9-b3d5-d1dbd58c3195",
   "metadata": {},
   "outputs": [],
   "source": [
    "output = pd.json_normalize(a[\"regions\"][0]['resources']['kinesis'][\"deliveryStreams\"])\n",
    "s = pd.Series([x+1 for x in range(len(output))])\n",
    "output.set_index([s],inplace=True)\n",
    "if not output.empty:\n",
    "    output.to_excel(\"output_excel/deliveryStreams_kinesis.xlsx\")"
   ]
  },
  {
   "cell_type": "code",
   "execution_count": 37,
   "id": "f900bc94-b978-42d1-9c7d-d37224144e18",
   "metadata": {},
   "outputs": [],
   "source": [
    "output = pd.json_normalize(a[\"regions\"][0]['resources']['lambda'][\"functions\"])\n",
    "s = pd.Series([x+1 for x in range(len(output))])\n",
    "output.set_index([s],inplace=True)\n",
    "if not output.empty:\n",
    "    output.to_excel(\"output_excel/lambda_functions.xlsx\")"
   ]
  },
  {
   "cell_type": "code",
   "execution_count": 38,
   "id": "0332e7ad-5a89-4d21-aa86-f0d4a79ac180",
   "metadata": {},
   "outputs": [],
   "source": [
    "output = pd.json_normalize(a[\"regions\"][0]['resources']['lambda'][\"eventSourceMappings\"])\n",
    "s = pd.Series([x+1 for x in range(len(output))])\n",
    "output.set_index([s],inplace=True)\n",
    "if not output.empty:\n",
    "    output.to_excel(\"output_excel/eventSourceMappings_lambda.xlsx\")"
   ]
  },
  {
   "cell_type": "code",
   "execution_count": 39,
   "id": "0c097335-31ff-42fd-982b-e4071cd6d757",
   "metadata": {},
   "outputs": [],
   "source": [
    "output = pd.json_normalize(a[\"regions\"][0]['resources']['rds'][\"dbInstances\"])\n",
    "s = pd.Series([x+1 for x in range(len(output))])\n",
    "output.set_index([s],inplace=True)\n",
    "if not output.empty:\n",
    "    output.to_excel(\"output_excel/dbInstances_rds.xlsx\")"
   ]
  },
  {
   "cell_type": "code",
   "execution_count": 40,
   "id": "464445bd-7949-4965-ae31-edaac7469d39",
   "metadata": {},
   "outputs": [],
   "source": [
    "output = pd.json_normalize(a[\"regions\"][0]['resources']['s3'][\"buckets\"])\n",
    "s = pd.Series([x+1 for x in range(len(output))])\n",
    "output.set_index([s],inplace=True)\n",
    "if not output.empty:\n",
    "    output.to_excel(\"output_excel/buckets_s3.xlsx\")"
   ]
  },
  {
   "cell_type": "code",
   "execution_count": 41,
   "id": "2972743d-eb21-47b7-ab14-4172ed88c8ef",
   "metadata": {},
   "outputs": [],
   "source": [
    "output = pd.json_normalize(a[\"regions\"][0]['resources']['sns'][\"topics\"])\n",
    "s = pd.Series([x+1 for x in range(len(output))])\n",
    "output.set_index([s],inplace=True)\n",
    "if not output.empty:\n",
    "    output.to_excel(\"output_excel/topics_sns.xlsx\")"
   ]
  },
  {
   "cell_type": "code",
   "execution_count": 42,
   "id": "ae293834-eb48-484c-a625-10812626c85a",
   "metadata": {},
   "outputs": [],
   "source": [
    "output = pd.json_normalize(a[\"regions\"][0]['resources']['sns'][\"subscriptions\"])\n",
    "s = pd.Series([x+1 for x in range(len(output))])\n",
    "output.set_index([s],inplace=True)\n",
    "if not output.empty:\n",
    "    output.to_excel(\"output_excel/subscriptions_sns.xlsx\")"
   ]
  },
  {
   "cell_type": "code",
   "execution_count": 43,
   "id": "57d7f320-0974-41c2-8c16-00153b1766c4",
   "metadata": {},
   "outputs": [],
   "source": [
    "output = pd.json_normalize(a[\"regions\"][0]['resources']['sqs'][\"queues\"])\n",
    "s = pd.Series([x+1 for x in range(len(output))])\n",
    "output.set_index([s],inplace=True)\n",
    "if not output.empty:\n",
    "    output.to_excel(\"output_excel/queues_sqs.xlsx\")"
   ]
  },
  {
   "cell_type": "code",
   "execution_count": 44,
   "id": "664366cc-87ff-4901-af21-74e712ee14e5",
   "metadata": {},
   "outputs": [],
   "source": [
    "output = pd.json_normalize(a[\"regions\"][0]['resources']['ecs'][\"clusters\"])\n",
    "s = pd.Series([x+1 for x in range(len(output))])\n",
    "output.set_index([s],inplace=True)\n",
    "if not output.empty:\n",
    "    output.to_excel(\"output_excel/clusters_ecs.xlsx\")"
   ]
  },
  {
   "cell_type": "code",
   "execution_count": 45,
   "id": "671ad2b9-fbeb-469a-8928-17bb1c0c4674",
   "metadata": {},
   "outputs": [],
   "source": [
    "output = pd.json_normalize(a[\"regions\"][0]['resources']['ecs'][\"services\"])\n",
    "s = pd.Series([x+1 for x in range(len(output))])\n",
    "output.set_index([s],inplace=True)\n",
    "if not output.empty:\n",
    "    output.to_excel(\"output_excel/services_ecs.xlsx\")"
   ]
  },
  {
   "cell_type": "code",
   "execution_count": 46,
   "id": "0684067d-2e57-4f81-a155-4318b941d7a9",
   "metadata": {},
   "outputs": [],
   "source": [
    "output = pd.json_normalize(a[\"regions\"][0]['resources']['ecs'][\"tasks\"])\n",
    "s = pd.Series([x+1 for x in range(len(output))])\n",
    "output.set_index([s],inplace=True)\n",
    "if not output.empty:\n",
    "    output.to_excel(\"output_excel/tasks_ecs.xlsx\")"
   ]
  },
  {
   "cell_type": "code",
   "execution_count": 47,
   "id": "ceac0b47-5da0-494a-ad87-777960b26d0a",
   "metadata": {},
   "outputs": [],
   "source": [
    "output = pd.json_normalize(a[\"regions\"][0]['resources']['efs'][\"fileSystems\"])\n",
    "s = pd.Series([x+1 for x in range(len(output))])\n",
    "output.set_index([s],inplace=True)\n",
    "if not output.empty:\n",
    "    output.to_excel(\"output_excel/fileSystems_efs.xlsx\")"
   ]
  },
  {
   "cell_type": "code",
   "execution_count": 48,
   "id": "19a8035f-7dbf-4cdd-a386-fb427952097d",
   "metadata": {},
   "outputs": [],
   "source": [
    "\n",
    "output = pd.json_normalize(a[\"regions\"][0]['resources']['cognito'][\"userPools\"])\n",
    "\n",
    "if not output.empty:\n",
    "    s = pd.Series([x+1 for x in range(len(output))])\n",
    "    output.set_index([s],inplace=True)\n",
    "    output.to_excel(\"output_excel/userPools_cognito.xlsx\")"
   ]
  },
  {
   "cell_type": "code",
   "execution_count": 49,
   "id": "f89d6398-f6d1-4ec9-8818-7f0e0c5ca5cd",
   "metadata": {},
   "outputs": [],
   "source": [
    "data = pd.json_normalize(a[\"regions\"][0]['resources']['cognito'][\"userPools\"])\n",
    "\n",
    "if not data.empty: \n",
    "    frames = []\n",
    "  \n",
    "    for i in range(len(data)):\n",
    "        \n",
    "        for item in data.iloc[i][\"UserPool.SchemaAttributes\"]:\n",
    "            \n",
    "            item[\"UserPoolId\"] = data.iloc[i][\"UserPool.Id\"]\n",
    "            out = pd.json_normalize(item)\n",
    "            frames.append(out)\n",
    "            \n",
    "        output = pd.concat(frames)\n",
    "    \n",
    "    if not output.empty:\n",
    "        \n",
    "        output.set_index('UserPoolId',inplace=True)\n",
    "\n",
    "        output.to_excel(\"output_excel/SchemaAttributes_userPools.xlsx\")\n",
    "\n"
   ]
  },
  {
   "cell_type": "code",
   "execution_count": 50,
   "id": "401adc02-1931-463b-bba5-442c3dc9893b",
   "metadata": {},
   "outputs": [],
   "source": [
    "#####################################################"
   ]
  },
  {
   "cell_type": "code",
   "execution_count": 51,
   "id": "9f5cddf7-28f9-4765-ab02-7fcc2da7bca4",
   "metadata": {},
   "outputs": [],
   "source": [
    "# item = \"routeTables\"\n",
    "# data = pd.read_json(f\"{item}.json\")\n",
    "# output = pd.json_normalize(data.routeTables)\n",
    "# output.to_excel(f\"{item}.xlsx\")  "
   ]
  }
 ],
 "metadata": {
  "kernelspec": {
   "display_name": "Python 3 (ipykernel)",
   "language": "python",
   "name": "python3"
  },
  "language_info": {
   "codemirror_mode": {
    "name": "ipython",
    "version": 3
   },
   "file_extension": ".py",
   "mimetype": "text/x-python",
   "name": "python",
   "nbconvert_exporter": "python",
   "pygments_lexer": "ipython3",
   "version": "3.11.5"
  }
 },
 "nbformat": 4,
 "nbformat_minor": 5
}
